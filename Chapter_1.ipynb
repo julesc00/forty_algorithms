{
 "cells": [
  {
   "cell_type": "code",
   "execution_count": null,
   "id": "025a2d23",
   "metadata": {},
   "outputs": [],
   "source": []
  },
  {
   "cell_type": "code",
   "execution_count": 5,
   "id": "8c6ccab1",
   "metadata": {},
   "outputs": [
    {
     "data": {
      "text/plain": [
       "6"
      ]
     },
     "execution_count": 5,
     "metadata": {},
     "output_type": "execute_result"
    }
   ],
   "source": [
    "def get_sum(my_list):\n",
    "    \"\"\"\n",
    "    Checking linear time (O(n)) complexity, though this produces an O(n)\n",
    "    complexity.\n",
    "    \"\"\"\n",
    "    sum = 0\n",
    "    for item in my_list:\n",
    "        sum += item\n",
    "    return sum\n",
    "\n",
    "get_sum([1, 2, 3])"
   ]
  },
  {
   "cell_type": "code",
   "execution_count": 6,
   "id": "1ec62ff1",
   "metadata": {},
   "outputs": [
    {
     "data": {
      "text/plain": [
       "21"
      ]
     },
     "execution_count": 6,
     "metadata": {},
     "output_type": "execute_result"
    }
   ],
   "source": [
    "get_sum([1, 2, 3, 4, 5, 6])"
   ]
  },
  {
   "cell_type": "code",
   "execution_count": 8,
   "id": "5fac57c0",
   "metadata": {},
   "outputs": [
    {
     "data": {
      "text/plain": [
       "10"
      ]
     },
     "execution_count": 8,
     "metadata": {},
     "output_type": "execute_result"
    }
   ],
   "source": [
    "def get_quadratic_sum(my_list):\n",
    "    \"\"\"\n",
    "    A quadratic sum example with a two-dimensional list.\n",
    "    \"\"\"\n",
    "    sum = 0\n",
    "    for row in my_list:\n",
    "        for item in  row:\n",
    "            sum += item\n",
    "    \n",
    "    return sum\n",
    "\n",
    "get_quadratic_sum([[1, 2], [3, 4]])"
   ]
  },
  {
   "cell_type": "code",
   "execution_count": 10,
   "id": "3b052570",
   "metadata": {},
   "outputs": [
    {
     "data": {
      "text/plain": [
       "False"
      ]
     },
     "execution_count": 10,
     "metadata": {},
     "output_type": "execute_result"
    }
   ],
   "source": [
    "def search_binary(my_list, item):\n",
    "    \"\"\"\n",
    "    In search of the binary.\n",
    "    \"\"\"\n",
    "    first = 0\n",
    "    last = len(my_list) - 1\n",
    "    found_flag = False\n",
    "    \n",
    "    while first <= last and not found_flag:\n",
    "        mid = (first + last) // 2\n",
    "        if my_list[mid] == item:\n",
    "            found_flag = True\n",
    "        else:\n",
    "            if item < my_list[mid]:\n",
    "                last = mid - 1\n",
    "            else:\n",
    "                first = mid + 1\n",
    "                \n",
    "    return found_flag\n",
    "\n",
    "\n",
    "search_binary([8, 9, 10, 100, 1000, 2000, 3000], 5)"
   ]
  },
  {
   "cell_type": "code",
   "execution_count": null,
   "id": "7631a486",
   "metadata": {},
   "outputs": [],
   "source": []
  }
 ],
 "metadata": {
  "kernelspec": {
   "display_name": "Python 3 (ipykernel)",
   "language": "python",
   "name": "python3"
  },
  "language_info": {
   "codemirror_mode": {
    "name": "ipython",
    "version": 3
   },
   "file_extension": ".py",
   "mimetype": "text/x-python",
   "name": "python",
   "nbconvert_exporter": "python",
   "pygments_lexer": "ipython3",
   "version": "3.9.7"
  }
 },
 "nbformat": 4,
 "nbformat_minor": 5
}
